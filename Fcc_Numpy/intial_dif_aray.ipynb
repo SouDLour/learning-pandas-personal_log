{
 "cells": [
  {
   "cell_type": "code",
   "execution_count": 1,
   "metadata": {},
   "outputs": [],
   "source": [
    "import numpy as np"
   ]
  },
  {
   "cell_type": "code",
   "execution_count": null,
   "metadata": {},
   "outputs": [
    {
     "data": {
      "text/plain": [
       "array([[[0., 0., 0., 0., 0., 0.],\n",
       "        [0., 0., 0., 0., 0., 0.],\n",
       "        [0., 0., 0., 0., 0., 0.],\n",
       "        [0., 0., 0., 0., 0., 0.]],\n",
       "\n",
       "       [[0., 0., 0., 0., 0., 0.],\n",
       "        [0., 0., 0., 0., 0., 0.],\n",
       "        [0., 0., 0., 0., 0., 0.],\n",
       "        [0., 0., 0., 0., 0., 0.]]])"
      ]
     },
     "execution_count": 2,
     "metadata": {},
     "output_type": "execute_result"
    }
   ],
   "source": [
    "#All Zeros matrix\n",
    "#Create an array of zeros (2 of them)\n",
    "# 4 rows of zeros need to be made\n",
    "# 6 columns  per 4 rows in each array.\n",
    "np.zeros([2,4,6])"
   ]
  },
  {
   "cell_type": "code",
   "execution_count": 4,
   "metadata": {},
   "outputs": [
    {
     "data": {
      "text/plain": [
       "array([[[1, 1, 1, 1, 1, 1],\n",
       "        [1, 1, 1, 1, 1, 1],\n",
       "        [1, 1, 1, 1, 1, 1],\n",
       "        [1, 1, 1, 1, 1, 1]],\n",
       "\n",
       "       [[1, 1, 1, 1, 1, 1],\n",
       "        [1, 1, 1, 1, 1, 1],\n",
       "        [1, 1, 1, 1, 1, 1],\n",
       "        [1, 1, 1, 1, 1, 1]]], dtype=int32)"
      ]
     },
     "execution_count": 4,
     "metadata": {},
     "output_type": "execute_result"
    }
   ],
   "source": [
    "np.ones([2,4,6], dtype='int32')"
   ]
  },
  {
   "cell_type": "code",
   "execution_count": 8,
   "metadata": {},
   "outputs": [
    {
     "data": {
      "text/plain": [
       "array([[[13., 13., 13., 13., 13., 13.],\n",
       "        [13., 13., 13., 13., 13., 13.],\n",
       "        [13., 13., 13., 13., 13., 13.],\n",
       "        [13., 13., 13., 13., 13., 13.]],\n",
       "\n",
       "       [[13., 13., 13., 13., 13., 13.],\n",
       "        [13., 13., 13., 13., 13., 13.],\n",
       "        [13., 13., 13., 13., 13., 13.],\n",
       "        [13., 13., 13., 13., 13., 13.]]], dtype=float16)"
      ]
     },
     "execution_count": 8,
     "metadata": {},
     "output_type": "execute_result"
    }
   ],
   "source": [
    "#any other numbers custom numbers\n",
    "a = np.full([2,4,6],13, dtype='float16')\n",
    "a"
   ]
  },
  {
   "cell_type": "code",
   "execution_count": 12,
   "metadata": {},
   "outputs": [
    {
     "data": {
      "text/plain": [
       "array([[[5., 5., 5., 5., 5., 5.],\n",
       "        [5., 5., 5., 5., 5., 5.],\n",
       "        [5., 5., 5., 5., 5., 5.],\n",
       "        [5., 5., 5., 5., 5., 5.]],\n",
       "\n",
       "       [[5., 5., 5., 5., 5., 5.],\n",
       "        [5., 5., 5., 5., 5., 5.],\n",
       "        [5., 5., 5., 5., 5., 5.],\n",
       "        [5., 5., 5., 5., 5., 5.]]], dtype=float16)"
      ]
     },
     "execution_count": 12,
     "metadata": {},
     "output_type": "execute_result"
    }
   ],
   "source": [
    "# full like = any other number.\n",
    "# takes Basically takes shape of assigneed variable\n",
    "# and now you can reuse it but with a differnet number\n",
    "np.full_like(a, 5)"
   ]
  },
  {
   "cell_type": "code",
   "execution_count": null,
   "metadata": {},
   "outputs": [
    {
     "data": {
      "text/plain": [
       "array([[0.72267119, 0.08973309],\n",
       "       [0.18819496, 0.6703894 ],\n",
       "       [0.84088526, 0.38337538],\n",
       "       [0.54277784, 0.08573888]])"
      ]
     },
     "execution_count": 13,
     "metadata": {},
     "output_type": "execute_result"
    }
   ],
   "source": [
    "#Random decimal numbers: you dont have to pass it as a tuple\n",
    "np.random.rand(4,2)"
   ]
  },
  {
   "cell_type": "code",
   "execution_count": 15,
   "metadata": {},
   "outputs": [
    {
     "data": {
      "text/plain": [
       "(2, 4, 6)"
      ]
     },
     "execution_count": 15,
     "metadata": {},
     "output_type": "execute_result"
    }
   ],
   "source": [
    "a.shape"
   ]
  },
  {
   "cell_type": "code",
   "execution_count": 16,
   "metadata": {},
   "outputs": [
    {
     "data": {
      "text/plain": [
       "array([[[0.6385332 , 0.03458091, 0.1068374 , 0.16384488, 0.46532467,\n",
       "         0.41324356],\n",
       "        [0.61297946, 0.05386605, 0.76422832, 0.21734872, 0.76180155,\n",
       "         0.27364503],\n",
       "        [0.13143796, 0.94673385, 0.07963342, 0.27439071, 0.91532915,\n",
       "         0.78791712],\n",
       "        [0.84962965, 0.52767923, 0.17769545, 0.37643649, 0.0222742 ,\n",
       "         0.2063928 ]],\n",
       "\n",
       "       [[0.12729848, 0.74067315, 0.93068024, 0.90873401, 0.83140662,\n",
       "         0.946146  ],\n",
       "        [0.70769879, 0.78081126, 0.0454398 , 0.61736355, 0.10775842,\n",
       "         0.89582767],\n",
       "        [0.11580257, 0.68574425, 0.73123721, 0.47614644, 0.92355808,\n",
       "         0.60482948],\n",
       "        [0.03932857, 0.9817903 , 0.23189091, 0.07123546, 0.36498709,\n",
       "         0.43422993]]])"
      ]
     },
     "execution_count": 16,
     "metadata": {},
     "output_type": "execute_result"
    }
   ],
   "source": [
    "#random_sample() = generate a random sample/floats\n",
    "#a.shape inside the parentheses should be used as the size\n",
    "# for the new random sample.\n",
    "np.random.random_sample(a.shape)"
   ]
  },
  {
   "cell_type": "code",
   "execution_count": null,
   "metadata": {},
   "outputs": [
    {
     "data": {
      "text/plain": [
       "array([[0.61327293, 0.19569444, 0.1060664 , 0.82238224, 0.98804712,\n",
       "        0.51366843],\n",
       "       [0.62447694, 0.47437675, 0.43889738, 0.83316891, 0.1713152 ,\n",
       "        0.23319245],\n",
       "       [0.17042359, 0.81959278, 0.5788173 , 0.98769919, 0.41648035,\n",
       "        0.14801001],\n",
       "       [0.3761732 , 0.98605678, 0.6790418 , 0.31225774, 0.05282015,\n",
       "        0.91381583],\n",
       "       [0.6072523 , 0.37790665, 0.47569854, 0.60288552, 0.18690209,\n",
       "        0.11497418]])"
      ]
     },
     "execution_count": 17,
     "metadata": {},
     "output_type": "execute_result"
    }
   ],
   "source": [
    "#Same as above, but we are specifically specfying the size we want\n",
    "# not borrowing form another object.\n",
    "np.random.rand(5,6)"
   ]
  },
  {
   "cell_type": "code",
   "execution_count": null,
   "metadata": {},
   "outputs": [
    {
     "data": {
      "text/plain": [
       "array([[7, 7, 7, 7, 5],\n",
       "       [5, 8, 6, 7, 5],\n",
       "       [5, 8, 5, 6, 7],\n",
       "       [5, 8, 5, 5, 7]], dtype=int32)"
      ]
     },
     "execution_count": 20,
     "metadata": {},
     "output_type": "execute_result"
    }
   ],
   "source": [
    "# randint(starting Number, Number limit, size=(rows,columns))\n",
    "np.random.randint(5,9, size=(4,5))"
   ]
  },
  {
   "cell_type": "code",
   "execution_count": null,
   "metadata": {},
   "outputs": [
    {
     "data": {
      "text/plain": [
       "array([[1., 0., 0., 0., 0., 0., 0., 0., 0., 0.],\n",
       "       [0., 1., 0., 0., 0., 0., 0., 0., 0., 0.],\n",
       "       [0., 0., 1., 0., 0., 0., 0., 0., 0., 0.],\n",
       "       [0., 0., 0., 1., 0., 0., 0., 0., 0., 0.],\n",
       "       [0., 0., 0., 0., 1., 0., 0., 0., 0., 0.],\n",
       "       [0., 0., 0., 0., 0., 1., 0., 0., 0., 0.],\n",
       "       [0., 0., 0., 0., 0., 0., 1., 0., 0., 0.],\n",
       "       [0., 0., 0., 0., 0., 0., 0., 1., 0., 0.],\n",
       "       [0., 0., 0., 0., 0., 0., 0., 0., 1., 0.],\n",
       "       [0., 0., 0., 0., 0., 0., 0., 0., 0., 1.]])"
      ]
     },
     "execution_count": 22,
     "metadata": {},
     "output_type": "execute_result"
    }
   ],
   "source": [
    "#identity matrix defualt square matrix\n",
    "np.identity(10)"
   ]
  },
  {
   "cell_type": "code",
   "execution_count": 28,
   "metadata": {},
   "outputs": [
    {
     "data": {
      "text/plain": [
       "array([[1, 2, 3],\n",
       "       [1, 2, 3],\n",
       "       [1, 2, 3],\n",
       "       [1, 2, 3]])"
      ]
     },
     "execution_count": 28,
     "metadata": {},
     "output_type": "execute_result"
    }
   ],
   "source": [
    "#Repeasting arrays: look into numpy docs\n",
    "arr = np.array([[1,2,3]])\n",
    "rp  = np.repeat(arr,4, axis=0)\n",
    "rp"
   ]
  },
  {
   "cell_type": "code",
   "execution_count": null,
   "metadata": {},
   "outputs": [],
   "source": []
  }
 ],
 "metadata": {
  "kernelspec": {
   "display_name": ".venv",
   "language": "python",
   "name": "python3"
  },
  "language_info": {
   "codemirror_mode": {
    "name": "ipython",
    "version": 3
   },
   "file_extension": ".py",
   "mimetype": "text/x-python",
   "name": "python",
   "nbconvert_exporter": "python",
   "pygments_lexer": "ipython3",
   "version": "3.13.2"
  }
 },
 "nbformat": 4,
 "nbformat_minor": 2
}
