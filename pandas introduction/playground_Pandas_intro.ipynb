{
 "cells": [
  {
   "cell_type": "code",
   "execution_count": 1,
   "metadata": {},
   "outputs": [],
   "source": [
    "import pandas as pd\n",
    "import numpy as np"
   ]
  },
  {
   "cell_type": "code",
   "execution_count": 36,
   "metadata": {},
   "outputs": [],
   "source": [
    "\n",
    "countries = pd.Series([124,987,56,23,53,12,86,912,764,34])"
   ]
  },
  {
   "cell_type": "code",
   "execution_count": 37,
   "metadata": {},
   "outputs": [
    {
     "data": {
      "text/plain": [
       "Japan            124\n",
       "United States    987\n",
       "Mexico            56\n",
       "Ireland           23\n",
       "Switzerland       53\n",
       "Brazil            12\n",
       "Spain             86\n",
       "Korea            912\n",
       "China            764\n",
       "Cambodia          34\n",
       "Name: Countries Population Index, dtype: int64"
      ]
     },
     "execution_count": 37,
     "metadata": {},
     "output_type": "execute_result"
    }
   ],
   "source": [
    "countries.name = 'Countries Population Index'\n",
    "countries.index = ['Japan','United States','Mexico','Ireland','Switzerland','Brazil','Spain','Korea','China','Cambodia']\n",
    "countries"
   ]
  },
  {
   "cell_type": "code",
   "execution_count": 24,
   "metadata": {},
   "outputs": [
    {
     "data": {
      "text/plain": [
       "Japan          124\n",
       "Mexico          56\n",
       "Ireland         23\n",
       "Switzerland     53\n",
       "Brazil          12\n",
       "Spain           86\n",
       "Cambodia        34\n",
       "Name: Countries Population Index, dtype: int64"
      ]
     },
     "execution_count": 24,
     "metadata": {},
     "output_type": "execute_result"
    }
   ],
   "source": [
    "# get Countries that are less than 500. terminal should output index and population number\n",
    "countries[countries < 500]"
   ]
  },
  {
   "cell_type": "code",
   "execution_count": 25,
   "metadata": {},
   "outputs": [
    {
     "data": {
      "text/plain": [
       "United States    987\n",
       "Korea            912\n",
       "China            764\n",
       "Name: Countries Population Index, dtype: int64"
      ]
     },
     "execution_count": 25,
     "metadata": {},
     "output_type": "execute_result"
    }
   ],
   "source": [
    "# get Countries that are greater than 500. terminal should output index and population number.\n",
    "countries[countries>500]"
   ]
  },
  {
   "cell_type": "code",
   "execution_count": 28,
   "metadata": {},
   "outputs": [
    {
     "name": "stderr",
     "output_type": "stream",
     "text": [
      "C:\\Users\\Decanus\\AppData\\Local\\Temp\\ipykernel_5100\\4279238270.py:2: FutureWarning: Series.__getitem__ treating keys as positions is deprecated. In a future version, integer keys will always be treated as labels (consistent with DataFrame behavior). To access a value by position, use `ser.iloc[pos]`\n",
      "  countries[[2,7]]\n"
     ]
    },
    {
     "data": {
      "text/plain": [
       "Mexico     56\n",
       "Korea     912\n",
       "Name: Countries Population Index, dtype: int64"
      ]
     },
     "execution_count": 28,
     "metadata": {},
     "output_type": "execute_result"
    }
   ],
   "source": [
    "# get the 3rd country and 8th countrey by index number\n",
    "countries[[2,7]]"
   ]
  },
  {
   "cell_type": "code",
   "execution_count": null,
   "metadata": {},
   "outputs": [
    {
     "name": "stderr",
     "output_type": "stream",
     "text": [
      "C:\\Users\\Decanus\\AppData\\Local\\Temp\\ipykernel_5100\\1215151417.py:1: FutureWarning: Series.__getitem__ treating keys as positions is deprecated. In a future version, integer keys will always be treated as labels (consistent with DataFrame behavior). To access a value by position, use `ser.iloc[pos]`\n",
      "  countries[1]\n"
     ]
    },
    {
     "data": {
      "text/plain": [
       "np.int64(987)"
      ]
     },
     "execution_count": 34,
     "metadata": {},
     "output_type": "execute_result"
    }
   ],
   "source": [
    "countries.mean"
   ]
  },
  {
   "cell_type": "code",
   "execution_count": 29,
   "metadata": {},
   "outputs": [
    {
     "data": {
      "text/plain": [
       "United States    987\n",
       "Korea            912\n",
       "China            764\n",
       "Name: Countries Population Index, dtype: int64"
      ]
     },
     "execution_count": 29,
     "metadata": {},
     "output_type": "execute_result"
    }
   ],
   "source": [
    "# number > get one index and its mean divided by 2 as well as thr\n",
    "countries[countries > countries.mean() / 2]"
   ]
  },
  {
   "cell_type": "code",
   "execution_count": 36,
   "metadata": {},
   "outputs": [
    {
     "data": {
      "text/plain": [
       "Japan            124\n",
       "United States    987\n",
       "Mexico            56\n",
       "Switzerland       53\n",
       "Spain             86\n",
       "Korea            912\n",
       "China            764\n",
       "Name: Countries Population Index, dtype: int64"
      ]
     },
     "execution_count": 36,
     "metadata": {},
     "output_type": "execute_result"
    }
   ],
   "source": [
    "# number > get one index and its median divided by 2 as well as thr\n",
    "countries[countries > countries.median() / 2]"
   ]
  },
  {
   "cell_type": "code",
   "execution_count": null,
   "metadata": {},
   "outputs": [
    {
     "data": {
      "text/plain": [
       "America    124\n",
       "Jamica     987\n",
       "Iceland    764\n",
       "France      34\n",
       "Name: ~4 Countries~, dtype: int64"
      ]
     },
     "execution_count": 42,
     "metadata": {},
     "output_type": "execute_result"
    }
   ],
   "source": [
    "#Just a test with using parameters for assigning name and indexes names.\n",
    "#============\n",
    "# testCountries = pd.Series([124,987,764,34], name=\"~4 Countries~\",index=[\"America\",\"Jamica\",\"Iceland\",\"France\"])\n",
    "# testCountries"
   ]
  },
  {
   "cell_type": "code",
   "execution_count": 10,
   "metadata": {},
   "outputs": [
    {
     "data": {
      "text/plain": [
       "Cambodia          34\n",
       "China            764\n",
       "Korea            912\n",
       "Spain             86\n",
       "Brazil            12\n",
       "Switzerland       53\n",
       "Ireland           23\n",
       "Mexico            56\n",
       "United States    987\n",
       "Japan            124\n",
       "Name: Countries Population Index, dtype: int64"
      ]
     },
     "execution_count": 10,
     "metadata": {},
     "output_type": "execute_result"
    }
   ],
   "source": [
    "countries[::-1]"
   ]
  },
  {
   "cell_type": "code",
   "execution_count": 24,
   "metadata": {},
   "outputs": [
    {
     "data": {
      "text/plain": [
       "Japan            124\n",
       "China            764\n",
       "Korea            912\n",
       "United States    987\n",
       "Name: Countries Population Index, dtype: int64"
      ]
     },
     "execution_count": 24,
     "metadata": {},
     "output_type": "execute_result"
    }
   ],
   "source": [
    "countries.sort_values()[countries > 100]"
   ]
  },
  {
   "cell_type": "code",
   "execution_count": 27,
   "metadata": {},
   "outputs": [
    {
     "data": {
      "text/plain": [
       "Countries Population Index\n",
       "124    1\n",
       "987    1\n",
       "56     1\n",
       "23     1\n",
       "53     1\n",
       "12     1\n",
       "86     1\n",
       "912    1\n",
       "764    1\n",
       "34     1\n",
       "Name: count, dtype: int64"
      ]
     },
     "execution_count": 27,
     "metadata": {},
     "output_type": "execute_result"
    }
   ],
   "source": [
    "# How many times that value/index actually appears. Each country appeared only once\n",
    "countries.value_counts()"
   ]
  },
  {
   "cell_type": "code",
   "execution_count": 38,
   "metadata": {},
   "outputs": [
    {
     "data": {
      "text/plain": [
       "Japan            124\n",
       "United States    987\n",
       "Mexico            56\n",
       "Ireland           23\n",
       "Switzerland       53\n",
       "Brazil            12\n",
       "Spain             86\n",
       "Korea            912\n",
       "China            764\n",
       "Cambodia          34\n",
       "Name: Countries Population Index, dtype: int64"
      ]
     },
     "execution_count": 38,
     "metadata": {},
     "output_type": "execute_result"
    }
   ],
   "source": [
    "countries"
   ]
  },
  {
   "cell_type": "code",
   "execution_count": null,
   "metadata": {},
   "outputs": [
    {
     "data": {
      "text/plain": [
       "np.float64(406.7889023942407)"
      ]
     },
     "execution_count": 39,
     "metadata": {},
     "output_type": "execute_result"
    }
   ],
   "source": [
    "countries.std() #standard deviation"
   ]
  },
  {
   "cell_type": "code",
   "execution_count": 40,
   "metadata": {},
   "outputs": [
    {
     "data": {
      "text/plain": [
       "np.float64(305.1)"
      ]
     },
     "execution_count": 40,
     "metadata": {},
     "output_type": "execute_result"
    }
   ],
   "source": [
    "countries.mean()"
   ]
  },
  {
   "cell_type": "code",
   "execution_count": 41,
   "metadata": {},
   "outputs": [
    {
     "data": {
      "text/plain": [
       "np.int64(3051)"
      ]
     },
     "execution_count": 41,
     "metadata": {},
     "output_type": "execute_result"
    }
   ],
   "source": [
    "countries.sum()"
   ]
  },
  {
   "cell_type": "code",
   "execution_count": 42,
   "metadata": {},
   "outputs": [
    {
     "data": {
      "text/plain": [
       "np.float64(71.0)"
      ]
     },
     "execution_count": 42,
     "metadata": {},
     "output_type": "execute_result"
    }
   ],
   "source": [
    "countries.median()"
   ]
  },
  {
   "cell_type": "code",
   "execution_count": 43,
   "metadata": {},
   "outputs": [
    {
     "data": {
      "text/plain": [
       "0     12\n",
       "1     23\n",
       "2     34\n",
       "3     53\n",
       "4     56\n",
       "5     86\n",
       "6    124\n",
       "7    764\n",
       "8    912\n",
       "9    987\n",
       "Name: Countries Population Index, dtype: int64"
      ]
     },
     "execution_count": 43,
     "metadata": {},
     "output_type": "execute_result"
    }
   ],
   "source": [
    "countries.mode()"
   ]
  },
  {
   "cell_type": "code",
   "execution_count": null,
   "metadata": {},
   "outputs": [
    {
     "data": {
      "text/plain": [
       "Japan            4.820282\n",
       "United States    6.894670\n",
       "Mexico           4.025352\n",
       "Ireland          3.135494\n",
       "Switzerland      3.970292\n",
       "Brazil           2.484907\n",
       "Spain            4.454347\n",
       "Korea            6.815640\n",
       "China            6.638568\n",
       "Cambodia         3.526361\n",
       "Name: Countries Population Index, dtype: float64"
      ]
     },
     "execution_count": 46,
     "metadata": {},
     "output_type": "execute_result"
    }
   ],
   "source": [
    "np.log(countries)"
   ]
  },
  {
   "cell_type": "code",
   "execution_count": 47,
   "metadata": {},
   "outputs": [
    {
     "data": {
      "text/plain": [
       "United States    987\n",
       "Korea            912\n",
       "China            764\n",
       "Name: Countries Population Index, dtype: int64"
      ]
     },
     "execution_count": 47,
     "metadata": {},
     "output_type": "execute_result"
    }
   ],
   "source": [
    "countries[(countries > 700) & (countries < 1000) ]"
   ]
  },
  {
   "cell_type": "code",
   "execution_count": 48,
   "metadata": {},
   "outputs": [
    {
     "data": {
      "text/plain": [
       "Brazil              12\n",
       "Ireland             23\n",
       "Cambodia            34\n",
       "Switzerland         53\n",
       "China              764\n",
       "Korea              912\n",
       "United States      987\n",
       "Japan            10000\n",
       "Mexico           10000\n",
       "Spain            10000\n",
       "Name: Countries Population Index, dtype: int64"
      ]
     },
     "execution_count": 48,
     "metadata": {},
     "output_type": "execute_result"
    }
   ],
   "source": [
    "countries[[\"Japan\",\"Mexico\",\"Spain\"]] = 10000\n",
    "countries.sort_values()"
   ]
  },
  {
   "cell_type": "code",
   "execution_count": 54,
   "metadata": {},
   "outputs": [
    {
     "data": {
      "text/plain": [
       "Spain            10000\n",
       "Mexico           10000\n",
       "Japan            10000\n",
       "United States      987\n",
       "Korea              912\n",
       "China              764\n",
       "Switzerland         53\n",
       "Cambodia            34\n",
       "Ireland             23\n",
       "Brazil              12\n",
       "Name: Countries Population Index, dtype: int64"
      ]
     },
     "execution_count": 54,
     "metadata": {},
     "output_type": "execute_result"
    }
   ],
   "source": [
    "countries.sort_values()[::-1]"
   ]
  },
  {
   "cell_type": "code",
   "execution_count": 55,
   "metadata": {},
   "outputs": [
    {
     "data": {
      "text/plain": [
       "Switzerland         53\n",
       "China              764\n",
       "Korea              912\n",
       "United States      987\n",
       "Japan            10000\n",
       "Name: Countries Population Index, dtype: int64"
      ]
     },
     "execution_count": 55,
     "metadata": {},
     "output_type": "execute_result"
    }
   ],
   "source": [
    "countries.sort_values()[\"Switzerland\":\"Japan\"]"
   ]
  },
  {
   "cell_type": "code",
   "execution_count": null,
   "metadata": {},
   "outputs": [
    {
     "data": {
      "text/plain": [
       "Spain            82415\n",
       "Mexico           82415\n",
       "Japan            82415\n",
       "United States    10311\n",
       "Korea             9711\n",
       "China              764\n",
       "Switzerland         53\n",
       "Cambodia            34\n",
       "Ireland             23\n",
       "Brazil              12\n",
       "Name: Countries Population Index, dtype: int64"
      ]
     },
     "execution_count": 58,
     "metadata": {},
     "output_type": "execute_result"
    }
   ],
   "source": [
    "# for all countrries greater than 900 += countries (everynumber in country series) + 345\n",
    "countries[countries > 900] += (countries+345)\n",
    "countries.sort_values()[::-1]"
   ]
  },
  {
   "cell_type": "code",
   "execution_count": 2,
   "metadata": {},
   "outputs": [
    {
     "ename": "AttributeError",
     "evalue": "module 'numpy' has no attribute 'genfromtext'",
     "output_type": "error",
     "traceback": [
      "\u001b[1;31m---------------------------------------------------------------------------\u001b[0m",
      "\u001b[1;31mAttributeError\u001b[0m                            Traceback (most recent call last)",
      "Cell \u001b[1;32mIn[2], line 1\u001b[0m\n\u001b[1;32m----> 1\u001b[0m data \u001b[38;5;241m=\u001b[39m \u001b[43mnp\u001b[49m\u001b[38;5;241;43m.\u001b[39;49m\u001b[43mgenfromtext\u001b[49m(\u001b[38;5;28mstr\u001b[39m(\u001b[38;5;124m'\u001b[39m\u001b[38;5;124m/fcc_github_files/intro-to-pandas_files/data/btc-market-price.csv\u001b[39m\u001b[38;5;124m'\u001b[39m), delimiter \u001b[38;5;241m=\u001b[39m \u001b[38;5;124m'\u001b[39m\u001b[38;5;124m,\u001b[39m\u001b[38;5;124m'\u001b[39m,names\u001b[38;5;241m=\u001b[39m\u001b[38;5;28;01mTrue\u001b[39;00m, dtype\u001b[38;5;241m=\u001b[39m\u001b[38;5;28;01mNone\u001b[39;00m, encoding\u001b[38;5;241m=\u001b[39m\u001b[38;5;124m'\u001b[39m\u001b[38;5;124mUTF\u001b[39m\u001b[38;5;124m'\u001b[39m)\n",
      "File \u001b[1;32mc:\\Users\\Decanus\\Documents\\Fcc_Data_Analysis_Course\\fcc_env\\Lib\\site-packages\\numpy\\__init__.py:427\u001b[0m, in \u001b[0;36m__getattr__\u001b[1;34m(attr)\u001b[0m\n\u001b[0;32m    424\u001b[0m     \u001b[38;5;28;01mimport\u001b[39;00m\u001b[38;5;250m \u001b[39m\u001b[38;5;21;01mnumpy\u001b[39;00m\u001b[38;5;21;01m.\u001b[39;00m\u001b[38;5;21;01mchar\u001b[39;00m\u001b[38;5;250m \u001b[39m\u001b[38;5;28;01mas\u001b[39;00m\u001b[38;5;250m \u001b[39m\u001b[38;5;21;01mchar\u001b[39;00m\n\u001b[0;32m    425\u001b[0m     \u001b[38;5;28;01mreturn\u001b[39;00m char\u001b[38;5;241m.\u001b[39mchararray\n\u001b[1;32m--> 427\u001b[0m \u001b[38;5;28;01mraise\u001b[39;00m \u001b[38;5;167;01mAttributeError\u001b[39;00m(\u001b[38;5;124m\"\u001b[39m\u001b[38;5;124mmodule \u001b[39m\u001b[38;5;132;01m{!r}\u001b[39;00m\u001b[38;5;124m has no attribute \u001b[39m\u001b[38;5;124m\"\u001b[39m\n\u001b[0;32m    428\u001b[0m                      \u001b[38;5;124m\"\u001b[39m\u001b[38;5;132;01m{!r}\u001b[39;00m\u001b[38;5;124m\"\u001b[39m\u001b[38;5;241m.\u001b[39mformat(\u001b[38;5;18m__name__\u001b[39m, attr))\n",
      "\u001b[1;31mAttributeError\u001b[0m: module 'numpy' has no attribute 'genfromtext'"
     ]
    }
   ],
   "source": [
    "data = np.genfromtext(str('/fcc_github_files/intro-to-pandas_files/data/btc-market-price.csv'), delimiter = ',',names=True, dtype=None, encoding='UTF')"
   ]
  },
  {
   "cell_type": "code",
   "execution_count": null,
   "metadata": {},
   "outputs": [],
   "source": []
  }
 ],
 "metadata": {
  "kernelspec": {
   "display_name": "fcc_env",
   "language": "python",
   "name": "python3"
  },
  "language_info": {
   "codemirror_mode": {
    "name": "ipython",
    "version": 3
   },
   "file_extension": ".py",
   "mimetype": "text/x-python",
   "name": "python",
   "nbconvert_exporter": "python",
   "pygments_lexer": "ipython3",
   "version": "3.13.2"
  }
 },
 "nbformat": 4,
 "nbformat_minor": 2
}
