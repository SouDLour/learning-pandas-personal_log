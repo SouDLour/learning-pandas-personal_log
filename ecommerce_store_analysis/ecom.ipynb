{
 "cells": [
  {
   "cell_type": "markdown",
   "metadata": {},
   "source": [
    "\n",
    "### **Basic Analysis**\n",
    "\n",
    "1. **How many unique customers made purchases?** - result: 100,\n",
    "2. **What is the total revenue generated from all sales?** result: 75042.28\n",
    "3. **Which payment method was used the most?** result: CryptoCurrency\n",
    "### **Product & Category Insights**\n",
    "\n",
    "4. **Which product was purchased the most in terms of quantity?** - Tennis Racket - \n",
    "5. **Which product category generated the highest revenue?** - np.float64(5496.0) - Clothing Category had most - \n",
    "6. **What is the average order value (total cost per transaction)?** -750 is average order value-\n",
    "\n",
    "### **Customer Behavior**\n",
    "\n",
    "7. **Which customer made the highest total purchase?** -Customer: fe4c01d0-1fee-4ed1-8a03-1e7fc97cda22-\n",
    "9. **What is the most common purchase quantity?** -Most common purchas quantity is 5"
   ]
  },
  {
   "cell_type": "code",
   "execution_count": null,
   "metadata": {},
   "outputs": [],
   "source": [
    "import pandas as pd\n",
    "import numpy as np"
   ]
  },
  {
   "cell_type": "code",
   "execution_count": null,
   "metadata": {},
   "outputs": [],
   "source": [
    "df = pd.read_csv('ecommerce_data.csv')"
   ]
  },
  {
   "cell_type": "code",
   "execution_count": null,
   "metadata": {},
   "outputs": [],
   "source": [
    "# Used for Finding which category made most revenue\n",
    "\n",
    "filter_df = df.drop(['Order ID','Customer ID'], axis=1)\n",
    "filter_df"
   ]
  },
  {
   "cell_type": "markdown",
   "metadata": {},
   "source": [
    "Below Cell begins answering questions about e-commerce_data. This notebook also contains\n",
    "certian sections where I've took random breaks from answering questions, to practice/lean \n",
    "other functions. Pay attention to headings!!"
   ]
  },
  {
   "cell_type": "code",
   "execution_count": null,
   "metadata": {},
   "outputs": [],
   "source": [
    "df.info()"
   ]
  },
  {
   "cell_type": "markdown",
   "metadata": {},
   "source": [
    "# How manu unique customers made purchase"
   ]
  },
  {
   "cell_type": "code",
   "execution_count": null,
   "metadata": {},
   "outputs": [],
   "source": [
    "uniq_cust = df['Customer ID'].nunique()"
   ]
  },
  {
   "cell_type": "code",
   "execution_count": null,
   "metadata": {},
   "outputs": [],
   "source": [
    "total_cost = df['Total Cost'].sum()\n",
    "total_cost"
   ]
  },
  {
   "cell_type": "markdown",
   "metadata": {},
   "source": [
    "# Which Payment Method Used Most?"
   ]
  },
  {
   "cell_type": "code",
   "execution_count": null,
   "metadata": {},
   "outputs": [],
   "source": [
    "pay_meth = df['Payment Method'].value_counts()\n",
    "pay_meth"
   ]
  },
  {
   "cell_type": "code",
   "execution_count": null,
   "metadata": {},
   "outputs": [],
   "source": [
    "pay_meth.idxmax()"
   ]
  },
  {
   "cell_type": "markdown",
   "metadata": {},
   "source": [
    "# Which product purchased most in terms of Quality"
   ]
  },
  {
   "cell_type": "code",
   "execution_count": null,
   "metadata": {},
   "outputs": [],
   "source": [
    "top_pur = pd.DataFrame(df['Product'].value_counts())\n",
    "top_pur['count']"
   ]
  },
  {
   "cell_type": "markdown",
   "metadata": {},
   "source": [
    "# Which product category generated the highest revenue?"
   ]
  },
  {
   "cell_type": "code",
   "execution_count": null,
   "metadata": {},
   "outputs": [],
   "source": [
    "filt_df = df[['Category','Price','Quantity','Total Cost']] # This object contains a filtered DataFrame"
   ]
  },
  {
   "cell_type": "code",
   "execution_count": null,
   "metadata": {},
   "outputs": [],
   "source": [
    "filt_df.Category.value_counts()"
   ]
  },
  {
   "cell_type": "code",
   "execution_count": null,
   "metadata": {},
   "outputs": [],
   "source": [
    "sports_rev = filt_df[filt_df['Category']=='Sports']\n",
    "sports_rev['Total Cost'].sum().round()"
   ]
  },
  {
   "cell_type": "code",
   "execution_count": null,
   "metadata": {},
   "outputs": [],
   "source": [
    "clothing_rev = filt_df[filt_df['Category']=='Clothing']\n",
    "clothing_rev.Price.sum().round()"
   ]
  },
  {
   "cell_type": "code",
   "execution_count": null,
   "metadata": {},
   "outputs": [],
   "source": [
    "elec_rev = filt_df[filt_df['Category']=='Electronics']\n",
    "elec_rev.Price.sum().round()"
   ]
  },
  {
   "cell_type": "code",
   "execution_count": null,
   "metadata": {},
   "outputs": [],
   "source": [
    "hNK_rev = filt_df[filt_df['Category']=='Home & Kitchen']\n",
    "hNK_rev.Price.sum().round()"
   ]
  },
  {
   "cell_type": "code",
   "execution_count": null,
   "metadata": {},
   "outputs": [],
   "source": [
    "beau_rev = filt_df[filt_df['Category']=='Beauty']\n",
    "beau_rev.Price.sum().round()"
   ]
  },
  {
   "cell_type": "code",
   "execution_count": null,
   "metadata": {},
   "outputs": [],
   "source": [
    "df['Revenue'] = filt_df['Price'] * filt_df['Quantity']"
   ]
  },
  {
   "cell_type": "code",
   "execution_count": null,
   "metadata": {},
   "outputs": [],
   "source": [
    "category_revenue = df.groupby('Category')['Revenue'].sum().round()"
   ]
  },
  {
   "cell_type": "code",
   "execution_count": null,
   "metadata": {},
   "outputs": [],
   "source": [
    "category_revenue"
   ]
  },
  {
   "cell_type": "code",
   "execution_count": null,
   "metadata": {},
   "outputs": [],
   "source": [
    "filter_df"
   ]
  },
  {
   "cell_type": "markdown",
   "metadata": {},
   "source": [
    "### Break: Everything IN-between is random Practice from molin Hands-On Data Analysis with Panda's 2nd edition"
   ]
  },
  {
   "cell_type": "code",
   "execution_count": null,
   "metadata": {},
   "outputs": [],
   "source": [
    "df.Category.value_counts()"
   ]
  },
  {
   "cell_type": "code",
   "execution_count": null,
   "metadata": {},
   "outputs": [],
   "source": [
    "df[['Category','Price']]"
   ]
  },
  {
   "cell_type": "code",
   "execution_count": null,
   "metadata": {},
   "outputs": [],
   "source": [
    "#filter each rows column for string 'Pr'\n",
    "df[\n",
    "    ['Category'] + [col for col in df.columns if col.startswith('Pr')]\n",
    "    ]\n"
   ]
  },
  {
   "cell_type": "code",
   "execution_count": null,
   "metadata": {},
   "outputs": [],
   "source": [
    "df"
   ]
  },
  {
   "cell_type": "code",
   "execution_count": null,
   "metadata": {},
   "outputs": [],
   "source": [
    "#Practicing Slicing\n",
    "df[['Customer ID', 'Category','Price','Payment Method']][50:61]"
   ]
  },
  {
   "cell_type": "code",
   "execution_count": null,
   "metadata": {},
   "outputs": [],
   "source": [
    "df.iloc[20:60, 5:8] \n",
    "#This Row is non-Invlusive.\n",
    "#Start count at 0\n",
    "# end at one number before  "
   ]
  },
  {
   "cell_type": "code",
   "execution_count": null,
   "metadata": {},
   "outputs": [],
   "source": [
    "#Still non-inclusice:\n",
    "#Difference: When adding a list, we dont get a range of elements. Instead it\n",
    "# specifics which columns of the dataframe it wants\n",
    "df.iloc[20:60, [2,5,8]]"
   ]
  },
  {
   "cell_type": "code",
   "execution_count": null,
   "metadata": {},
   "outputs": [],
   "source": [
    "#.at[] quick usage, not ideal for long-term use.\n",
    "# slices & indexing not accepted\n",
    "#Interger and name based scalar lookup\n",
    "df.at[50,'Price']"
   ]
  },
  {
   "cell_type": "code",
   "execution_count": null,
   "metadata": {},
   "outputs": [],
   "source": [
    "#.iat[]\n",
    "#Interger based scalar vector lookup\n",
    "df.iat[50,3]"
   ]
  },
  {
   "cell_type": "code",
   "execution_count": null,
   "metadata": {},
   "outputs": [],
   "source": [
    "df.columns"
   ]
  },
  {
   "cell_type": "code",
   "execution_count": null,
   "metadata": {},
   "outputs": [],
   "source": [
    "new_dataFrame = pd.DataFrame(df[['Order ID','Customer ID','Payment Method']])"
   ]
  },
  {
   "cell_type": "code",
   "execution_count": null,
   "metadata": {},
   "outputs": [],
   "source": [
    "# Inside the Category Column, each row should contain the element Electronics\n",
    "#[COMA] at the same time, filter for these columns only.\n",
    "df.loc[df['Category']=='Electronics',['Category','Product','Price','Quantity','Total Cost']]"
   ]
  },
  {
   "cell_type": "code",
   "execution_count": null,
   "metadata": {},
   "outputs": [],
   "source": [
    "df['Price'].describe()"
   ]
  },
  {
   "cell_type": "code",
   "execution_count": null,
   "metadata": {},
   "outputs": [],
   "source": [
    "e_rev = df.loc[(df['Category']=='Electronics' ) & (df['Price']),['Price','Category']]\n",
    "e_rev.Price.sum().round()"
   ]
  },
  {
   "cell_type": "code",
   "execution_count": null,
   "metadata": {},
   "outputs": [],
   "source": [
    "# Product, Price, Payment Method\n",
    "filter_df.loc[(filter_df['Payment Method'] == 'Gift Card') & (filter_df['Product'] == 'Lipstick'),['Price','Product','Payment Method']]"
   ]
  },
  {
   "cell_type": "code",
   "execution_count": null,
   "metadata": {},
   "outputs": [],
   "source": [
    "e_tab = df.loc[(df['Category']=='Electronics') & (df['Product'].str.contains('Tablet')),['Category','Product','Price','Quantity','Total Cost']]\n",
    "e_tab"
   ]
  },
  {
   "cell_type": "code",
   "execution_count": null,
   "metadata": {},
   "outputs": [],
   "source": [
    "e_tab['Total Cost'].sum().round()"
   ]
  },
  {
   "cell_type": "code",
   "execution_count": null,
   "metadata": {
    "scrolled": true
   },
   "outputs": [],
   "source": [
    "filter_df"
   ]
  },
  {
   "cell_type": "code",
   "execution_count": null,
   "metadata": {
    "scrolled": true
   },
   "outputs": [],
   "source": [
    "filter_df.Category.value_counts()"
   ]
  },
  {
   "cell_type": "markdown",
   "metadata": {},
   "source": [
    "### Break: Everything IN-between ABOVE is random Practice from molin"
   ]
  },
  {
   "cell_type": "markdown",
   "metadata": {},
   "source": [
    "# What is the Average Order Value"
   ]
  },
  {
   "cell_type": "code",
   "execution_count": null,
   "metadata": {},
   "outputs": [],
   "source": [
    "df.head(10) # want a general idea of DataFrame"
   ]
  },
  {
   "cell_type": "code",
   "execution_count": null,
   "metadata": {},
   "outputs": [],
   "source": [
    "df['Total Cost'].describe().to_frame() #summary chart"
   ]
  },
  {
   "cell_type": "code",
   "execution_count": null,
   "metadata": {},
   "outputs": [],
   "source": []
  },
  {
   "cell_type": "markdown",
   "metadata": {
    "jp-MarkdownHeadingCollapsed": true
   },
   "source": [
    "# Break - Quick Pract"
   ]
  },
  {
   "cell_type": "code",
   "execution_count": null,
   "metadata": {},
   "outputs": [],
   "source": [
    "elec_prod = df.loc[(df['Total Cost'] >= 400) & (df['Category'] == 'Electronics'), ['Category','Product','Price','Total Cost']]\n",
    "elec_prod.value_counts().to_frame()"
   ]
  },
  {
   "cell_type": "markdown",
   "metadata": {},
   "source": [
    "# Braek pract end\n",
    "## Which customer made the highest total purchase?"
   ]
  },
  {
   "cell_type": "code",
   "execution_count": null,
   "metadata": {},
   "outputs": [],
   "source": [
    "known_customer = df[['Order ID','Customer ID','Total Cost']]\n",
    "known_customer"
   ]
  },
  {
   "cell_type": "code",
   "execution_count": null,
   "metadata": {},
   "outputs": [],
   "source": [
    "known_customer.value_counts().to_frame().head(5)"
   ]
  },
  {
   "cell_type": "code",
   "execution_count": null,
   "metadata": {},
   "outputs": [],
   "source": [
    "known_customer.max().to_frame()"
   ]
  },
  {
   "cell_type": "markdown",
   "metadata": {},
   "source": [
    " # Grabbing Data via String (Molin Practice)"
   ]
  },
  {
   "cell_type": "markdown",
   "metadata": {},
   "source": [
    "looking into each row of the column, look for the string that contains the str('any string')\n",
    "\n",
    "dataframe.[Column name].str.contains(<string>)"
   ]
  },
  {
   "cell_type": "code",
   "execution_count": null,
   "metadata": {},
   "outputs": [],
   "source": [
    "filter_df"
   ]
  },
  {
   "cell_type": "code",
   "execution_count": null,
   "metadata": {},
   "outputs": [],
   "source": [
    "filter_df[(filter_df['Product'].str.contains('Lip')) & (filter_df['Quantity'] > 2)]"
   ]
  },
  {
   "cell_type": "markdown",
   "metadata": {},
   "source": [
    "# **What is the most common purchase quantity?**"
   ]
  },
  {
   "cell_type": "code",
   "execution_count": null,
   "metadata": {},
   "outputs": [],
   "source": [
    "filter_df"
   ]
  },
  {
   "cell_type": "code",
   "execution_count": null,
   "metadata": {},
   "outputs": [],
   "source": [
    "filter_df[filter_df['Total Cost'].between(200,400)] # just testing between method"
   ]
  },
  {
   "cell_type": "code",
   "execution_count": null,
   "metadata": {},
   "outputs": [],
   "source": [
    "filter_df.Quantity.value_counts().to_frame()"
   ]
  },
  {
   "cell_type": "markdown",
   "metadata": {
    "jp-MarkdownHeadingCollapsed": true
   },
   "source": [
    "# idxmin & idxmax Practice"
   ]
  },
  {
   "cell_type": "code",
   "execution_count": null,
   "metadata": {},
   "outputs": [],
   "source": [
    "filter_df.loc[[filter_df['Total Cost'].idxmin(), filter_df['Total Cost'].idxmax()], ['Total']]"
   ]
  },
  {
   "cell_type": "markdown",
   "metadata": {},
   "source": [
    "# **How many orders were made per month?**"
   ]
  },
  {
   "cell_type": "code",
   "execution_count": null,
   "metadata": {},
   "outputs": [],
   "source": [
    "df[['Order ID','Purchase Date']].nunique()"
   ]
  },
  {
   "cell_type": "code",
   "execution_count": null,
   "metadata": {},
   "outputs": [],
   "source": [
    "df['Purchase Date'] = pd.to_datetime(df['Purchase Date'])"
   ]
  },
  {
   "cell_type": "code",
   "execution_count": null,
   "metadata": {},
   "outputs": [],
   "source": [
    "df['Purchase Month'] = df['Purchase Date'].dt.to_period('M')"
   ]
  },
  {
   "cell_type": "code",
   "execution_count": null,
   "metadata": {},
   "outputs": [],
   "source": [
    "monthly_sales = df.groupby('Purchase Date')['Order ID'].nunique()"
   ]
  }
 ],
 "metadata": {
  "kernelspec": {
   "display_name": "Python 3 (ipykernel)",
   "language": "python",
   "name": "python3"
  },
  "language_info": {
   "codemirror_mode": {
    "name": "ipython",
    "version": 3
   },
   "file_extension": ".py",
   "mimetype": "text/x-python",
   "name": "python",
   "nbconvert_exporter": "python",
   "pygments_lexer": "ipython3",
   "version": "3.13.2"
  }
 },
 "nbformat": 4,
 "nbformat_minor": 4
}
